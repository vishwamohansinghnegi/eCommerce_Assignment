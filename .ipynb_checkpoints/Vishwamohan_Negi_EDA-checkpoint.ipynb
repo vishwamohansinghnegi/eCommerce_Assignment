{
 "cells": [
  {
   "cell_type": "code",
   "execution_count": 1,
   "id": "cc607dad-953e-4837-ac01-ddb21ec0bb5d",
   "metadata": {},
   "outputs": [],
   "source": [
    "import numpy as np\n",
    "import pandas as pd"
   ]
  },
  {
   "cell_type": "code",
   "execution_count": 9,
   "id": "2921001b-200f-4164-9f77-32e7810504e9",
   "metadata": {},
   "outputs": [
    {
     "data": {
      "text/html": [
       "<div>\n",
       "<style scoped>\n",
       "    .dataframe tbody tr th:only-of-type {\n",
       "        vertical-align: middle;\n",
       "    }\n",
       "\n",
       "    .dataframe tbody tr th {\n",
       "        vertical-align: top;\n",
       "    }\n",
       "\n",
       "    .dataframe thead th {\n",
       "        text-align: right;\n",
       "    }\n",
       "</style>\n",
       "<table border=\"1\" class=\"dataframe\">\n",
       "  <thead>\n",
       "    <tr style=\"text-align: right;\">\n",
       "      <th></th>\n",
       "      <th>TransactionID</th>\n",
       "      <th>CustomerID</th>\n",
       "      <th>ProductID</th>\n",
       "      <th>TransactionDate</th>\n",
       "      <th>Quantity</th>\n",
       "      <th>TotalValue</th>\n",
       "      <th>Price</th>\n",
       "    </tr>\n",
       "  </thead>\n",
       "  <tbody>\n",
       "    <tr>\n",
       "      <th>0</th>\n",
       "      <td>T00001</td>\n",
       "      <td>C0199</td>\n",
       "      <td>P067</td>\n",
       "      <td>2024-08-25 12:38:23</td>\n",
       "      <td>1</td>\n",
       "      <td>300.68</td>\n",
       "      <td>300.68</td>\n",
       "    </tr>\n",
       "    <tr>\n",
       "      <th>1</th>\n",
       "      <td>T00112</td>\n",
       "      <td>C0146</td>\n",
       "      <td>P067</td>\n",
       "      <td>2024-05-27 22:23:54</td>\n",
       "      <td>1</td>\n",
       "      <td>300.68</td>\n",
       "      <td>300.68</td>\n",
       "    </tr>\n",
       "    <tr>\n",
       "      <th>2</th>\n",
       "      <td>T00166</td>\n",
       "      <td>C0127</td>\n",
       "      <td>P067</td>\n",
       "      <td>2024-04-25 07:38:55</td>\n",
       "      <td>1</td>\n",
       "      <td>300.68</td>\n",
       "      <td>300.68</td>\n",
       "    </tr>\n",
       "    <tr>\n",
       "      <th>3</th>\n",
       "      <td>T00272</td>\n",
       "      <td>C0087</td>\n",
       "      <td>P067</td>\n",
       "      <td>2024-03-26 22:55:37</td>\n",
       "      <td>2</td>\n",
       "      <td>601.36</td>\n",
       "      <td>300.68</td>\n",
       "    </tr>\n",
       "    <tr>\n",
       "      <th>4</th>\n",
       "      <td>T00363</td>\n",
       "      <td>C0070</td>\n",
       "      <td>P067</td>\n",
       "      <td>2024-03-21 15:10:10</td>\n",
       "      <td>3</td>\n",
       "      <td>902.04</td>\n",
       "      <td>300.68</td>\n",
       "    </tr>\n",
       "    <tr>\n",
       "      <th>...</th>\n",
       "      <td>...</td>\n",
       "      <td>...</td>\n",
       "      <td>...</td>\n",
       "      <td>...</td>\n",
       "      <td>...</td>\n",
       "      <td>...</td>\n",
       "      <td>...</td>\n",
       "    </tr>\n",
       "    <tr>\n",
       "      <th>995</th>\n",
       "      <td>T00496</td>\n",
       "      <td>C0118</td>\n",
       "      <td>P037</td>\n",
       "      <td>2024-10-24 08:30:27</td>\n",
       "      <td>1</td>\n",
       "      <td>459.86</td>\n",
       "      <td>459.86</td>\n",
       "    </tr>\n",
       "    <tr>\n",
       "      <th>996</th>\n",
       "      <td>T00759</td>\n",
       "      <td>C0059</td>\n",
       "      <td>P037</td>\n",
       "      <td>2024-06-04 02:15:24</td>\n",
       "      <td>3</td>\n",
       "      <td>1379.58</td>\n",
       "      <td>459.86</td>\n",
       "    </tr>\n",
       "    <tr>\n",
       "      <th>997</th>\n",
       "      <td>T00922</td>\n",
       "      <td>C0018</td>\n",
       "      <td>P037</td>\n",
       "      <td>2024-04-05 13:05:32</td>\n",
       "      <td>4</td>\n",
       "      <td>1839.44</td>\n",
       "      <td>459.86</td>\n",
       "    </tr>\n",
       "    <tr>\n",
       "      <th>998</th>\n",
       "      <td>T00959</td>\n",
       "      <td>C0115</td>\n",
       "      <td>P037</td>\n",
       "      <td>2024-09-29 10:16:02</td>\n",
       "      <td>2</td>\n",
       "      <td>919.72</td>\n",
       "      <td>459.86</td>\n",
       "    </tr>\n",
       "    <tr>\n",
       "      <th>999</th>\n",
       "      <td>T00992</td>\n",
       "      <td>C0024</td>\n",
       "      <td>P037</td>\n",
       "      <td>2024-04-21 10:52:24</td>\n",
       "      <td>1</td>\n",
       "      <td>459.86</td>\n",
       "      <td>459.86</td>\n",
       "    </tr>\n",
       "  </tbody>\n",
       "</table>\n",
       "<p>1000 rows × 7 columns</p>\n",
       "</div>"
      ],
      "text/plain": [
       "    TransactionID CustomerID ProductID      TransactionDate  Quantity  \\\n",
       "0          T00001      C0199      P067  2024-08-25 12:38:23         1   \n",
       "1          T00112      C0146      P067  2024-05-27 22:23:54         1   \n",
       "2          T00166      C0127      P067  2024-04-25 07:38:55         1   \n",
       "3          T00272      C0087      P067  2024-03-26 22:55:37         2   \n",
       "4          T00363      C0070      P067  2024-03-21 15:10:10         3   \n",
       "..            ...        ...       ...                  ...       ...   \n",
       "995        T00496      C0118      P037  2024-10-24 08:30:27         1   \n",
       "996        T00759      C0059      P037  2024-06-04 02:15:24         3   \n",
       "997        T00922      C0018      P037  2024-04-05 13:05:32         4   \n",
       "998        T00959      C0115      P037  2024-09-29 10:16:02         2   \n",
       "999        T00992      C0024      P037  2024-04-21 10:52:24         1   \n",
       "\n",
       "     TotalValue   Price  \n",
       "0        300.68  300.68  \n",
       "1        300.68  300.68  \n",
       "2        300.68  300.68  \n",
       "3        601.36  300.68  \n",
       "4        902.04  300.68  \n",
       "..          ...     ...  \n",
       "995      459.86  459.86  \n",
       "996     1379.58  459.86  \n",
       "997     1839.44  459.86  \n",
       "998      919.72  459.86  \n",
       "999      459.86  459.86  \n",
       "\n",
       "[1000 rows x 7 columns]"
      ]
     },
     "execution_count": 9,
     "metadata": {},
     "output_type": "execute_result"
    }
   ],
   "source": [
    "transactions = pd.read_csv('Transactions.csv')\n",
    "transactions"
   ]
  },
  {
   "cell_type": "code",
   "execution_count": 11,
   "id": "985fbc1c-d052-4c04-a2ab-833a7937170c",
   "metadata": {},
   "outputs": [
    {
     "data": {
      "text/html": [
       "<div>\n",
       "<style scoped>\n",
       "    .dataframe tbody tr th:only-of-type {\n",
       "        vertical-align: middle;\n",
       "    }\n",
       "\n",
       "    .dataframe tbody tr th {\n",
       "        vertical-align: top;\n",
       "    }\n",
       "\n",
       "    .dataframe thead th {\n",
       "        text-align: right;\n",
       "    }\n",
       "</style>\n",
       "<table border=\"1\" class=\"dataframe\">\n",
       "  <thead>\n",
       "    <tr style=\"text-align: right;\">\n",
       "      <th></th>\n",
       "      <th>CustomerID</th>\n",
       "      <th>CustomerName</th>\n",
       "      <th>Region</th>\n",
       "      <th>SignupDate</th>\n",
       "    </tr>\n",
       "  </thead>\n",
       "  <tbody>\n",
       "    <tr>\n",
       "      <th>0</th>\n",
       "      <td>C0001</td>\n",
       "      <td>Lawrence Carroll</td>\n",
       "      <td>South America</td>\n",
       "      <td>2022-07-10</td>\n",
       "    </tr>\n",
       "    <tr>\n",
       "      <th>1</th>\n",
       "      <td>C0002</td>\n",
       "      <td>Elizabeth Lutz</td>\n",
       "      <td>Asia</td>\n",
       "      <td>2022-02-13</td>\n",
       "    </tr>\n",
       "    <tr>\n",
       "      <th>2</th>\n",
       "      <td>C0003</td>\n",
       "      <td>Michael Rivera</td>\n",
       "      <td>South America</td>\n",
       "      <td>2024-03-07</td>\n",
       "    </tr>\n",
       "    <tr>\n",
       "      <th>3</th>\n",
       "      <td>C0004</td>\n",
       "      <td>Kathleen Rodriguez</td>\n",
       "      <td>South America</td>\n",
       "      <td>2022-10-09</td>\n",
       "    </tr>\n",
       "    <tr>\n",
       "      <th>4</th>\n",
       "      <td>C0005</td>\n",
       "      <td>Laura Weber</td>\n",
       "      <td>Asia</td>\n",
       "      <td>2022-08-15</td>\n",
       "    </tr>\n",
       "    <tr>\n",
       "      <th>...</th>\n",
       "      <td>...</td>\n",
       "      <td>...</td>\n",
       "      <td>...</td>\n",
       "      <td>...</td>\n",
       "    </tr>\n",
       "    <tr>\n",
       "      <th>195</th>\n",
       "      <td>C0196</td>\n",
       "      <td>Laura Watts</td>\n",
       "      <td>Europe</td>\n",
       "      <td>2022-06-07</td>\n",
       "    </tr>\n",
       "    <tr>\n",
       "      <th>196</th>\n",
       "      <td>C0197</td>\n",
       "      <td>Christina Harvey</td>\n",
       "      <td>Europe</td>\n",
       "      <td>2023-03-21</td>\n",
       "    </tr>\n",
       "    <tr>\n",
       "      <th>197</th>\n",
       "      <td>C0198</td>\n",
       "      <td>Rebecca Ray</td>\n",
       "      <td>Europe</td>\n",
       "      <td>2022-02-27</td>\n",
       "    </tr>\n",
       "    <tr>\n",
       "      <th>198</th>\n",
       "      <td>C0199</td>\n",
       "      <td>Andrea Jenkins</td>\n",
       "      <td>Europe</td>\n",
       "      <td>2022-12-03</td>\n",
       "    </tr>\n",
       "    <tr>\n",
       "      <th>199</th>\n",
       "      <td>C0200</td>\n",
       "      <td>Kelly Cross</td>\n",
       "      <td>Asia</td>\n",
       "      <td>2023-06-11</td>\n",
       "    </tr>\n",
       "  </tbody>\n",
       "</table>\n",
       "<p>200 rows × 4 columns</p>\n",
       "</div>"
      ],
      "text/plain": [
       "    CustomerID        CustomerName         Region  SignupDate\n",
       "0        C0001    Lawrence Carroll  South America  2022-07-10\n",
       "1        C0002      Elizabeth Lutz           Asia  2022-02-13\n",
       "2        C0003      Michael Rivera  South America  2024-03-07\n",
       "3        C0004  Kathleen Rodriguez  South America  2022-10-09\n",
       "4        C0005         Laura Weber           Asia  2022-08-15\n",
       "..         ...                 ...            ...         ...\n",
       "195      C0196         Laura Watts         Europe  2022-06-07\n",
       "196      C0197    Christina Harvey         Europe  2023-03-21\n",
       "197      C0198         Rebecca Ray         Europe  2022-02-27\n",
       "198      C0199      Andrea Jenkins         Europe  2022-12-03\n",
       "199      C0200         Kelly Cross           Asia  2023-06-11\n",
       "\n",
       "[200 rows x 4 columns]"
      ]
     },
     "execution_count": 11,
     "metadata": {},
     "output_type": "execute_result"
    }
   ],
   "source": [
    "customers = pd.read_csv('Customers.csv')\n",
    "customers"
   ]
  },
  {
   "cell_type": "code",
   "execution_count": 15,
   "id": "2282f4b2-c70e-4960-9682-10cc29324259",
   "metadata": {},
   "outputs": [
    {
     "data": {
      "text/html": [
       "<div>\n",
       "<style scoped>\n",
       "    .dataframe tbody tr th:only-of-type {\n",
       "        vertical-align: middle;\n",
       "    }\n",
       "\n",
       "    .dataframe tbody tr th {\n",
       "        vertical-align: top;\n",
       "    }\n",
       "\n",
       "    .dataframe thead th {\n",
       "        text-align: right;\n",
       "    }\n",
       "</style>\n",
       "<table border=\"1\" class=\"dataframe\">\n",
       "  <thead>\n",
       "    <tr style=\"text-align: right;\">\n",
       "      <th></th>\n",
       "      <th>ProductID</th>\n",
       "      <th>ProductName</th>\n",
       "      <th>Category</th>\n",
       "      <th>Price</th>\n",
       "    </tr>\n",
       "  </thead>\n",
       "  <tbody>\n",
       "    <tr>\n",
       "      <th>0</th>\n",
       "      <td>P001</td>\n",
       "      <td>ActiveWear Biography</td>\n",
       "      <td>Books</td>\n",
       "      <td>169.30</td>\n",
       "    </tr>\n",
       "    <tr>\n",
       "      <th>1</th>\n",
       "      <td>P002</td>\n",
       "      <td>ActiveWear Smartwatch</td>\n",
       "      <td>Electronics</td>\n",
       "      <td>346.30</td>\n",
       "    </tr>\n",
       "    <tr>\n",
       "      <th>2</th>\n",
       "      <td>P003</td>\n",
       "      <td>ComfortLiving Biography</td>\n",
       "      <td>Books</td>\n",
       "      <td>44.12</td>\n",
       "    </tr>\n",
       "    <tr>\n",
       "      <th>3</th>\n",
       "      <td>P004</td>\n",
       "      <td>BookWorld Rug</td>\n",
       "      <td>Home Decor</td>\n",
       "      <td>95.69</td>\n",
       "    </tr>\n",
       "    <tr>\n",
       "      <th>4</th>\n",
       "      <td>P005</td>\n",
       "      <td>TechPro T-Shirt</td>\n",
       "      <td>Clothing</td>\n",
       "      <td>429.31</td>\n",
       "    </tr>\n",
       "    <tr>\n",
       "      <th>...</th>\n",
       "      <td>...</td>\n",
       "      <td>...</td>\n",
       "      <td>...</td>\n",
       "      <td>...</td>\n",
       "    </tr>\n",
       "    <tr>\n",
       "      <th>95</th>\n",
       "      <td>P096</td>\n",
       "      <td>SoundWave Headphones</td>\n",
       "      <td>Electronics</td>\n",
       "      <td>307.47</td>\n",
       "    </tr>\n",
       "    <tr>\n",
       "      <th>96</th>\n",
       "      <td>P097</td>\n",
       "      <td>BookWorld Cookbook</td>\n",
       "      <td>Books</td>\n",
       "      <td>319.34</td>\n",
       "    </tr>\n",
       "    <tr>\n",
       "      <th>97</th>\n",
       "      <td>P098</td>\n",
       "      <td>SoundWave Laptop</td>\n",
       "      <td>Electronics</td>\n",
       "      <td>299.93</td>\n",
       "    </tr>\n",
       "    <tr>\n",
       "      <th>98</th>\n",
       "      <td>P099</td>\n",
       "      <td>SoundWave Mystery Book</td>\n",
       "      <td>Books</td>\n",
       "      <td>354.29</td>\n",
       "    </tr>\n",
       "    <tr>\n",
       "      <th>99</th>\n",
       "      <td>P100</td>\n",
       "      <td>HomeSense Sweater</td>\n",
       "      <td>Clothing</td>\n",
       "      <td>126.34</td>\n",
       "    </tr>\n",
       "  </tbody>\n",
       "</table>\n",
       "<p>100 rows × 4 columns</p>\n",
       "</div>"
      ],
      "text/plain": [
       "   ProductID              ProductName     Category   Price\n",
       "0       P001     ActiveWear Biography        Books  169.30\n",
       "1       P002    ActiveWear Smartwatch  Electronics  346.30\n",
       "2       P003  ComfortLiving Biography        Books   44.12\n",
       "3       P004            BookWorld Rug   Home Decor   95.69\n",
       "4       P005          TechPro T-Shirt     Clothing  429.31\n",
       "..       ...                      ...          ...     ...\n",
       "95      P096     SoundWave Headphones  Electronics  307.47\n",
       "96      P097       BookWorld Cookbook        Books  319.34\n",
       "97      P098         SoundWave Laptop  Electronics  299.93\n",
       "98      P099   SoundWave Mystery Book        Books  354.29\n",
       "99      P100        HomeSense Sweater     Clothing  126.34\n",
       "\n",
       "[100 rows x 4 columns]"
      ]
     },
     "execution_count": 15,
     "metadata": {},
     "output_type": "execute_result"
    }
   ],
   "source": [
    "prod = pd.read_csv('Products.csv')\n",
    "prod"
   ]
  },
  {
   "cell_type": "code",
   "execution_count": 37,
   "id": "dfffc5e4-68d6-4786-830b-39e15f0016da",
   "metadata": {},
   "outputs": [
    {
     "data": {
      "text/html": [
       "<div>\n",
       "<style scoped>\n",
       "    .dataframe tbody tr th:only-of-type {\n",
       "        vertical-align: middle;\n",
       "    }\n",
       "\n",
       "    .dataframe tbody tr th {\n",
       "        vertical-align: top;\n",
       "    }\n",
       "\n",
       "    .dataframe thead th {\n",
       "        text-align: right;\n",
       "    }\n",
       "</style>\n",
       "<table border=\"1\" class=\"dataframe\">\n",
       "  <thead>\n",
       "    <tr style=\"text-align: right;\">\n",
       "      <th></th>\n",
       "      <th>TransactionID</th>\n",
       "      <th>CustomerID</th>\n",
       "      <th>ProductID</th>\n",
       "      <th>TransactionDate</th>\n",
       "      <th>Quantity</th>\n",
       "      <th>TotalValue</th>\n",
       "      <th>Price</th>\n",
       "      <th>CustomerName</th>\n",
       "      <th>Region</th>\n",
       "      <th>SignupDate</th>\n",
       "    </tr>\n",
       "  </thead>\n",
       "  <tbody>\n",
       "    <tr>\n",
       "      <th>0</th>\n",
       "      <td>T00001</td>\n",
       "      <td>C0199</td>\n",
       "      <td>P067</td>\n",
       "      <td>2024-08-25 12:38:23</td>\n",
       "      <td>1</td>\n",
       "      <td>300.68</td>\n",
       "      <td>300.68</td>\n",
       "      <td>Andrea Jenkins</td>\n",
       "      <td>Europe</td>\n",
       "      <td>2022-12-03</td>\n",
       "    </tr>\n",
       "    <tr>\n",
       "      <th>1</th>\n",
       "      <td>T00112</td>\n",
       "      <td>C0146</td>\n",
       "      <td>P067</td>\n",
       "      <td>2024-05-27 22:23:54</td>\n",
       "      <td>1</td>\n",
       "      <td>300.68</td>\n",
       "      <td>300.68</td>\n",
       "      <td>Brittany Harvey</td>\n",
       "      <td>Asia</td>\n",
       "      <td>2024-09-04</td>\n",
       "    </tr>\n",
       "    <tr>\n",
       "      <th>2</th>\n",
       "      <td>T00166</td>\n",
       "      <td>C0127</td>\n",
       "      <td>P067</td>\n",
       "      <td>2024-04-25 07:38:55</td>\n",
       "      <td>1</td>\n",
       "      <td>300.68</td>\n",
       "      <td>300.68</td>\n",
       "      <td>Kathryn Stevens</td>\n",
       "      <td>Europe</td>\n",
       "      <td>2024-04-04</td>\n",
       "    </tr>\n",
       "    <tr>\n",
       "      <th>3</th>\n",
       "      <td>T00272</td>\n",
       "      <td>C0087</td>\n",
       "      <td>P067</td>\n",
       "      <td>2024-03-26 22:55:37</td>\n",
       "      <td>2</td>\n",
       "      <td>601.36</td>\n",
       "      <td>300.68</td>\n",
       "      <td>Travis Campbell</td>\n",
       "      <td>South America</td>\n",
       "      <td>2024-04-11</td>\n",
       "    </tr>\n",
       "    <tr>\n",
       "      <th>4</th>\n",
       "      <td>T00363</td>\n",
       "      <td>C0070</td>\n",
       "      <td>P067</td>\n",
       "      <td>2024-03-21 15:10:10</td>\n",
       "      <td>3</td>\n",
       "      <td>902.04</td>\n",
       "      <td>300.68</td>\n",
       "      <td>Timothy Perez</td>\n",
       "      <td>Europe</td>\n",
       "      <td>2022-03-15</td>\n",
       "    </tr>\n",
       "    <tr>\n",
       "      <th>...</th>\n",
       "      <td>...</td>\n",
       "      <td>...</td>\n",
       "      <td>...</td>\n",
       "      <td>...</td>\n",
       "      <td>...</td>\n",
       "      <td>...</td>\n",
       "      <td>...</td>\n",
       "      <td>...</td>\n",
       "      <td>...</td>\n",
       "      <td>...</td>\n",
       "    </tr>\n",
       "    <tr>\n",
       "      <th>995</th>\n",
       "      <td>T00496</td>\n",
       "      <td>C0118</td>\n",
       "      <td>P037</td>\n",
       "      <td>2024-10-24 08:30:27</td>\n",
       "      <td>1</td>\n",
       "      <td>459.86</td>\n",
       "      <td>459.86</td>\n",
       "      <td>Jacob Holt</td>\n",
       "      <td>South America</td>\n",
       "      <td>2022-01-22</td>\n",
       "    </tr>\n",
       "    <tr>\n",
       "      <th>996</th>\n",
       "      <td>T00759</td>\n",
       "      <td>C0059</td>\n",
       "      <td>P037</td>\n",
       "      <td>2024-06-04 02:15:24</td>\n",
       "      <td>3</td>\n",
       "      <td>1379.58</td>\n",
       "      <td>459.86</td>\n",
       "      <td>Mrs. Kimberly Wright</td>\n",
       "      <td>North America</td>\n",
       "      <td>2024-04-07</td>\n",
       "    </tr>\n",
       "    <tr>\n",
       "      <th>997</th>\n",
       "      <td>T00922</td>\n",
       "      <td>C0018</td>\n",
       "      <td>P037</td>\n",
       "      <td>2024-04-05 13:05:32</td>\n",
       "      <td>4</td>\n",
       "      <td>1839.44</td>\n",
       "      <td>459.86</td>\n",
       "      <td>Tyler Haynes</td>\n",
       "      <td>North America</td>\n",
       "      <td>2024-09-21</td>\n",
       "    </tr>\n",
       "    <tr>\n",
       "      <th>998</th>\n",
       "      <td>T00959</td>\n",
       "      <td>C0115</td>\n",
       "      <td>P037</td>\n",
       "      <td>2024-09-29 10:16:02</td>\n",
       "      <td>2</td>\n",
       "      <td>919.72</td>\n",
       "      <td>459.86</td>\n",
       "      <td>Joshua Hamilton</td>\n",
       "      <td>Asia</td>\n",
       "      <td>2024-11-11</td>\n",
       "    </tr>\n",
       "    <tr>\n",
       "      <th>999</th>\n",
       "      <td>T00992</td>\n",
       "      <td>C0024</td>\n",
       "      <td>P037</td>\n",
       "      <td>2024-04-21 10:52:24</td>\n",
       "      <td>1</td>\n",
       "      <td>459.86</td>\n",
       "      <td>459.86</td>\n",
       "      <td>Michele Cooley</td>\n",
       "      <td>North America</td>\n",
       "      <td>2024-02-05</td>\n",
       "    </tr>\n",
       "  </tbody>\n",
       "</table>\n",
       "<p>1000 rows × 10 columns</p>\n",
       "</div>"
      ],
      "text/plain": [
       "    TransactionID CustomerID ProductID      TransactionDate  Quantity  \\\n",
       "0          T00001      C0199      P067  2024-08-25 12:38:23         1   \n",
       "1          T00112      C0146      P067  2024-05-27 22:23:54         1   \n",
       "2          T00166      C0127      P067  2024-04-25 07:38:55         1   \n",
       "3          T00272      C0087      P067  2024-03-26 22:55:37         2   \n",
       "4          T00363      C0070      P067  2024-03-21 15:10:10         3   \n",
       "..            ...        ...       ...                  ...       ...   \n",
       "995        T00496      C0118      P037  2024-10-24 08:30:27         1   \n",
       "996        T00759      C0059      P037  2024-06-04 02:15:24         3   \n",
       "997        T00922      C0018      P037  2024-04-05 13:05:32         4   \n",
       "998        T00959      C0115      P037  2024-09-29 10:16:02         2   \n",
       "999        T00992      C0024      P037  2024-04-21 10:52:24         1   \n",
       "\n",
       "     TotalValue   Price          CustomerName         Region  SignupDate  \n",
       "0        300.68  300.68        Andrea Jenkins         Europe  2022-12-03  \n",
       "1        300.68  300.68       Brittany Harvey           Asia  2024-09-04  \n",
       "2        300.68  300.68       Kathryn Stevens         Europe  2024-04-04  \n",
       "3        601.36  300.68       Travis Campbell  South America  2024-04-11  \n",
       "4        902.04  300.68         Timothy Perez         Europe  2022-03-15  \n",
       "..          ...     ...                   ...            ...         ...  \n",
       "995      459.86  459.86            Jacob Holt  South America  2022-01-22  \n",
       "996     1379.58  459.86  Mrs. Kimberly Wright  North America  2024-04-07  \n",
       "997     1839.44  459.86          Tyler Haynes  North America  2024-09-21  \n",
       "998      919.72  459.86       Joshua Hamilton           Asia  2024-11-11  \n",
       "999      459.86  459.86        Michele Cooley  North America  2024-02-05  \n",
       "\n",
       "[1000 rows x 10 columns]"
      ]
     },
     "execution_count": 37,
     "metadata": {},
     "output_type": "execute_result"
    }
   ],
   "source": [
    "merged_df = pd.merge(transactions , customers , on='CustomerID' , how='inner')\n",
    "merged_df"
   ]
  },
  {
   "cell_type": "code",
   "execution_count": 45,
   "id": "5a3e78ef-a9f3-4624-83a1-809593d65d67",
   "metadata": {},
   "outputs": [
    {
     "data": {
      "text/html": [
       "<div>\n",
       "<style scoped>\n",
       "    .dataframe tbody tr th:only-of-type {\n",
       "        vertical-align: middle;\n",
       "    }\n",
       "\n",
       "    .dataframe tbody tr th {\n",
       "        vertical-align: top;\n",
       "    }\n",
       "\n",
       "    .dataframe thead th {\n",
       "        text-align: right;\n",
       "    }\n",
       "</style>\n",
       "<table border=\"1\" class=\"dataframe\">\n",
       "  <thead>\n",
       "    <tr style=\"text-align: right;\">\n",
       "      <th></th>\n",
       "      <th>TransactionID</th>\n",
       "      <th>CustomerID</th>\n",
       "      <th>ProductID</th>\n",
       "      <th>TransactionDate</th>\n",
       "      <th>Quantity</th>\n",
       "      <th>TotalValue</th>\n",
       "      <th>CustomerName</th>\n",
       "      <th>Region</th>\n",
       "      <th>SignupDate</th>\n",
       "      <th>ProductName</th>\n",
       "      <th>Category</th>\n",
       "      <th>Price</th>\n",
       "    </tr>\n",
       "  </thead>\n",
       "  <tbody>\n",
       "    <tr>\n",
       "      <th>0</th>\n",
       "      <td>T00001</td>\n",
       "      <td>C0199</td>\n",
       "      <td>P067</td>\n",
       "      <td>2024-08-25 12:38:23</td>\n",
       "      <td>1</td>\n",
       "      <td>300.68</td>\n",
       "      <td>Andrea Jenkins</td>\n",
       "      <td>Europe</td>\n",
       "      <td>2022-12-03</td>\n",
       "      <td>ComfortLiving Bluetooth Speaker</td>\n",
       "      <td>Electronics</td>\n",
       "      <td>300.68</td>\n",
       "    </tr>\n",
       "    <tr>\n",
       "      <th>1</th>\n",
       "      <td>T00112</td>\n",
       "      <td>C0146</td>\n",
       "      <td>P067</td>\n",
       "      <td>2024-05-27 22:23:54</td>\n",
       "      <td>1</td>\n",
       "      <td>300.68</td>\n",
       "      <td>Brittany Harvey</td>\n",
       "      <td>Asia</td>\n",
       "      <td>2024-09-04</td>\n",
       "      <td>ComfortLiving Bluetooth Speaker</td>\n",
       "      <td>Electronics</td>\n",
       "      <td>300.68</td>\n",
       "    </tr>\n",
       "    <tr>\n",
       "      <th>2</th>\n",
       "      <td>T00166</td>\n",
       "      <td>C0127</td>\n",
       "      <td>P067</td>\n",
       "      <td>2024-04-25 07:38:55</td>\n",
       "      <td>1</td>\n",
       "      <td>300.68</td>\n",
       "      <td>Kathryn Stevens</td>\n",
       "      <td>Europe</td>\n",
       "      <td>2024-04-04</td>\n",
       "      <td>ComfortLiving Bluetooth Speaker</td>\n",
       "      <td>Electronics</td>\n",
       "      <td>300.68</td>\n",
       "    </tr>\n",
       "    <tr>\n",
       "      <th>3</th>\n",
       "      <td>T00272</td>\n",
       "      <td>C0087</td>\n",
       "      <td>P067</td>\n",
       "      <td>2024-03-26 22:55:37</td>\n",
       "      <td>2</td>\n",
       "      <td>601.36</td>\n",
       "      <td>Travis Campbell</td>\n",
       "      <td>South America</td>\n",
       "      <td>2024-04-11</td>\n",
       "      <td>ComfortLiving Bluetooth Speaker</td>\n",
       "      <td>Electronics</td>\n",
       "      <td>300.68</td>\n",
       "    </tr>\n",
       "    <tr>\n",
       "      <th>4</th>\n",
       "      <td>T00363</td>\n",
       "      <td>C0070</td>\n",
       "      <td>P067</td>\n",
       "      <td>2024-03-21 15:10:10</td>\n",
       "      <td>3</td>\n",
       "      <td>902.04</td>\n",
       "      <td>Timothy Perez</td>\n",
       "      <td>Europe</td>\n",
       "      <td>2022-03-15</td>\n",
       "      <td>ComfortLiving Bluetooth Speaker</td>\n",
       "      <td>Electronics</td>\n",
       "      <td>300.68</td>\n",
       "    </tr>\n",
       "    <tr>\n",
       "      <th>...</th>\n",
       "      <td>...</td>\n",
       "      <td>...</td>\n",
       "      <td>...</td>\n",
       "      <td>...</td>\n",
       "      <td>...</td>\n",
       "      <td>...</td>\n",
       "      <td>...</td>\n",
       "      <td>...</td>\n",
       "      <td>...</td>\n",
       "      <td>...</td>\n",
       "      <td>...</td>\n",
       "      <td>...</td>\n",
       "    </tr>\n",
       "    <tr>\n",
       "      <th>995</th>\n",
       "      <td>T00496</td>\n",
       "      <td>C0118</td>\n",
       "      <td>P037</td>\n",
       "      <td>2024-10-24 08:30:27</td>\n",
       "      <td>1</td>\n",
       "      <td>459.86</td>\n",
       "      <td>Jacob Holt</td>\n",
       "      <td>South America</td>\n",
       "      <td>2022-01-22</td>\n",
       "      <td>SoundWave Smartwatch</td>\n",
       "      <td>Electronics</td>\n",
       "      <td>459.86</td>\n",
       "    </tr>\n",
       "    <tr>\n",
       "      <th>996</th>\n",
       "      <td>T00759</td>\n",
       "      <td>C0059</td>\n",
       "      <td>P037</td>\n",
       "      <td>2024-06-04 02:15:24</td>\n",
       "      <td>3</td>\n",
       "      <td>1379.58</td>\n",
       "      <td>Mrs. Kimberly Wright</td>\n",
       "      <td>North America</td>\n",
       "      <td>2024-04-07</td>\n",
       "      <td>SoundWave Smartwatch</td>\n",
       "      <td>Electronics</td>\n",
       "      <td>459.86</td>\n",
       "    </tr>\n",
       "    <tr>\n",
       "      <th>997</th>\n",
       "      <td>T00922</td>\n",
       "      <td>C0018</td>\n",
       "      <td>P037</td>\n",
       "      <td>2024-04-05 13:05:32</td>\n",
       "      <td>4</td>\n",
       "      <td>1839.44</td>\n",
       "      <td>Tyler Haynes</td>\n",
       "      <td>North America</td>\n",
       "      <td>2024-09-21</td>\n",
       "      <td>SoundWave Smartwatch</td>\n",
       "      <td>Electronics</td>\n",
       "      <td>459.86</td>\n",
       "    </tr>\n",
       "    <tr>\n",
       "      <th>998</th>\n",
       "      <td>T00959</td>\n",
       "      <td>C0115</td>\n",
       "      <td>P037</td>\n",
       "      <td>2024-09-29 10:16:02</td>\n",
       "      <td>2</td>\n",
       "      <td>919.72</td>\n",
       "      <td>Joshua Hamilton</td>\n",
       "      <td>Asia</td>\n",
       "      <td>2024-11-11</td>\n",
       "      <td>SoundWave Smartwatch</td>\n",
       "      <td>Electronics</td>\n",
       "      <td>459.86</td>\n",
       "    </tr>\n",
       "    <tr>\n",
       "      <th>999</th>\n",
       "      <td>T00992</td>\n",
       "      <td>C0024</td>\n",
       "      <td>P037</td>\n",
       "      <td>2024-04-21 10:52:24</td>\n",
       "      <td>1</td>\n",
       "      <td>459.86</td>\n",
       "      <td>Michele Cooley</td>\n",
       "      <td>North America</td>\n",
       "      <td>2024-02-05</td>\n",
       "      <td>SoundWave Smartwatch</td>\n",
       "      <td>Electronics</td>\n",
       "      <td>459.86</td>\n",
       "    </tr>\n",
       "  </tbody>\n",
       "</table>\n",
       "<p>1000 rows × 12 columns</p>\n",
       "</div>"
      ],
      "text/plain": [
       "    TransactionID CustomerID ProductID      TransactionDate  Quantity  \\\n",
       "0          T00001      C0199      P067  2024-08-25 12:38:23         1   \n",
       "1          T00112      C0146      P067  2024-05-27 22:23:54         1   \n",
       "2          T00166      C0127      P067  2024-04-25 07:38:55         1   \n",
       "3          T00272      C0087      P067  2024-03-26 22:55:37         2   \n",
       "4          T00363      C0070      P067  2024-03-21 15:10:10         3   \n",
       "..            ...        ...       ...                  ...       ...   \n",
       "995        T00496      C0118      P037  2024-10-24 08:30:27         1   \n",
       "996        T00759      C0059      P037  2024-06-04 02:15:24         3   \n",
       "997        T00922      C0018      P037  2024-04-05 13:05:32         4   \n",
       "998        T00959      C0115      P037  2024-09-29 10:16:02         2   \n",
       "999        T00992      C0024      P037  2024-04-21 10:52:24         1   \n",
       "\n",
       "     TotalValue          CustomerName         Region  SignupDate  \\\n",
       "0        300.68        Andrea Jenkins         Europe  2022-12-03   \n",
       "1        300.68       Brittany Harvey           Asia  2024-09-04   \n",
       "2        300.68       Kathryn Stevens         Europe  2024-04-04   \n",
       "3        601.36       Travis Campbell  South America  2024-04-11   \n",
       "4        902.04         Timothy Perez         Europe  2022-03-15   \n",
       "..          ...                   ...            ...         ...   \n",
       "995      459.86            Jacob Holt  South America  2022-01-22   \n",
       "996     1379.58  Mrs. Kimberly Wright  North America  2024-04-07   \n",
       "997     1839.44          Tyler Haynes  North America  2024-09-21   \n",
       "998      919.72       Joshua Hamilton           Asia  2024-11-11   \n",
       "999      459.86        Michele Cooley  North America  2024-02-05   \n",
       "\n",
       "                         ProductName     Category   Price  \n",
       "0    ComfortLiving Bluetooth Speaker  Electronics  300.68  \n",
       "1    ComfortLiving Bluetooth Speaker  Electronics  300.68  \n",
       "2    ComfortLiving Bluetooth Speaker  Electronics  300.68  \n",
       "3    ComfortLiving Bluetooth Speaker  Electronics  300.68  \n",
       "4    ComfortLiving Bluetooth Speaker  Electronics  300.68  \n",
       "..                               ...          ...     ...  \n",
       "995             SoundWave Smartwatch  Electronics  459.86  \n",
       "996             SoundWave Smartwatch  Electronics  459.86  \n",
       "997             SoundWave Smartwatch  Electronics  459.86  \n",
       "998             SoundWave Smartwatch  Electronics  459.86  \n",
       "999             SoundWave Smartwatch  Electronics  459.86  \n",
       "\n",
       "[1000 rows x 12 columns]"
      ]
     },
     "execution_count": 45,
     "metadata": {},
     "output_type": "execute_result"
    }
   ],
   "source": [
    "df = pd.merge(merged_df.drop('Price',axis=1) , prod , on='ProductID' , how='inner')\n",
    "df"
   ]
  },
  {
   "cell_type": "code",
   "execution_count": 126,
   "id": "99aebf51-1d6d-478e-bc8d-4baa3699b216",
   "metadata": {},
   "outputs": [
    {
     "name": "stdout",
     "output_type": "stream",
     "text": [
      "<class 'pandas.core.frame.DataFrame'>\n",
      "RangeIndex: 1000 entries, 0 to 999\n",
      "Data columns (total 12 columns):\n",
      " #   Column           Non-Null Count  Dtype  \n",
      "---  ------           --------------  -----  \n",
      " 0   TransactionID    1000 non-null   object \n",
      " 1   CustomerID       1000 non-null   object \n",
      " 2   ProductID        1000 non-null   object \n",
      " 3   TransactionDate  1000 non-null   object \n",
      " 4   Quantity         1000 non-null   int64  \n",
      " 5   TotalValue       1000 non-null   float64\n",
      " 6   CustomerName     1000 non-null   object \n",
      " 7   Region           1000 non-null   object \n",
      " 8   SignupDate       1000 non-null   object \n",
      " 9   ProductName      1000 non-null   object \n",
      " 10  Category         1000 non-null   object \n",
      " 11  Price            1000 non-null   float64\n",
      "dtypes: float64(2), int64(1), object(9)\n",
      "memory usage: 93.9+ KB\n"
     ]
    }
   ],
   "source": [
    "df.info()"
   ]
  },
  {
   "cell_type": "code",
   "execution_count": 260,
   "id": "d284660d-db5d-4675-b2af-3fb68225d154",
   "metadata": {},
   "outputs": [
    {
     "name": "stdout",
     "output_type": "stream",
     "text": [
      "<class 'pandas.core.frame.DataFrame'>\n",
      "RangeIndex: 1000 entries, 0 to 999\n",
      "Data columns (total 12 columns):\n",
      " #   Column           Non-Null Count  Dtype         \n",
      "---  ------           --------------  -----         \n",
      " 0   TransactionID    1000 non-null   object        \n",
      " 1   CustomerID       1000 non-null   object        \n",
      " 2   ProductID        1000 non-null   object        \n",
      " 3   TransactionDate  1000 non-null   datetime64[ns]\n",
      " 4   Quantity         1000 non-null   int64         \n",
      " 5   TotalValue       1000 non-null   float64       \n",
      " 6   CustomerName     1000 non-null   object        \n",
      " 7   Region           1000 non-null   object        \n",
      " 8   SignupDate       1000 non-null   datetime64[ns]\n",
      " 9   ProductName      1000 non-null   object        \n",
      " 10  Category         1000 non-null   object        \n",
      " 11  Price            1000 non-null   float64       \n",
      "dtypes: datetime64[ns](2), float64(2), int64(1), object(7)\n",
      "memory usage: 93.9+ KB\n"
     ]
    }
   ],
   "source": [
    "df['TransactionDate'] = pd.to_datetime(df['TransactionDate'])\n",
    "df['SignupDate'] = pd.to_datetime(df['SignupDate'])\n",
    "df.info()"
   ]
  },
  {
   "cell_type": "code",
   "execution_count": 262,
   "id": "596c59b1-bcc4-413e-9e4f-a590d0d723f1",
   "metadata": {},
   "outputs": [
    {
     "data": {
      "text/plain": [
       "0"
      ]
     },
     "execution_count": 262,
     "metadata": {},
     "output_type": "execute_result"
    }
   ],
   "source": [
    "df.duplicated().sum()"
   ]
  },
  {
   "cell_type": "code",
   "execution_count": 264,
   "id": "c50314cb-0921-4a16-9199-2b43bd1ceecf",
   "metadata": {},
   "outputs": [
    {
     "data": {
      "text/plain": [
       "TransactionID      0\n",
       "CustomerID         0\n",
       "ProductID          0\n",
       "TransactionDate    0\n",
       "Quantity           0\n",
       "TotalValue         0\n",
       "CustomerName       0\n",
       "Region             0\n",
       "SignupDate         0\n",
       "ProductName        0\n",
       "Category           0\n",
       "Price              0\n",
       "dtype: int64"
      ]
     },
     "execution_count": 264,
     "metadata": {},
     "output_type": "execute_result"
    }
   ],
   "source": [
    "df.isnull().sum()"
   ]
  },
  {
   "cell_type": "code",
   "execution_count": 266,
   "id": "0986e070-6df5-4f0c-905a-1f1cb8c3bcf7",
   "metadata": {},
   "outputs": [
    {
     "data": {
      "text/plain": [
       "array(['Europe', 'Asia', 'South America', 'North America'], dtype=object)"
      ]
     },
     "execution_count": 266,
     "metadata": {},
     "output_type": "execute_result"
    }
   ],
   "source": [
    "df['Region'].unique()\n",
    "# We have data from 4 continents"
   ]
  },
  {
   "cell_type": "code",
   "execution_count": 268,
   "id": "d9e4ef96-b35c-4a1d-a46d-f98f2cfef1c9",
   "metadata": {},
   "outputs": [
    {
     "data": {
      "text/plain": [
       "Text(0.5, 1.0, 'Total Sales By Region')"
      ]
     },
     "execution_count": 268,
     "metadata": {},
     "output_type": "execute_result"
    },
    {
     "data": {
      "image/png": "[encoded data removed]",
      "text/plain": [
       "<Figure size 1000x400 with 1 Axes>"
      ]
     },
     "metadata": {},
     "output_type": "display_data"
    }
   ],
   "source": [
    "import matplotlib.pyplot as plt\n",
    "import seaborn as sns\n",
    "plt.style.use('ggplot')\n",
    "\n",
    "plt.figure(figsize=(10,4))\n",
    "sns.barplot(df.groupby('Region')['TotalValue'].sum())\n",
    "plt.title('Total Sales By Region')"
   ]
  },
  {
   "cell_type": "code",
   "execution_count": 270,
   "id": "e5001f32-eeb4-40c0-83f4-8d95d0ab9d4c",
   "metadata": {},
   "outputs": [
    {
     "data": {
      "text/plain": [
       "Text(0.5, 1.0, 'Average Order price by Region')"
      ]
     },
     "execution_count": 270,
     "metadata": {},
     "output_type": "execute_result"
    },
    {
     "data": {
      "image/png": "[encoded data removed]",
      "text/plain": [
       "<Figure size 1000x400 with 1 Axes>"
      ]
     },
     "metadata": {},
     "output_type": "display_data"
    }
   ],
   "source": [
    "plt.figure(figsize=(10,4))\n",
    "sns.barplot(df.groupby('Region')['TotalValue'].sum()/df.groupby('Region').count()['TransactionID'])\n",
    "plt.ylabel('Average Order price')\n",
    "plt.title('Average Order price by Region')"
   ]
  },
  {
   "cell_type": "code",
   "execution_count": 272,
   "id": "cc647758-8e7f-4f78-ba94-6620ec4a55e1",
   "metadata": {},
   "outputs": [
    {
     "data": {
      "text/plain": [
       "(Region\n",
       " Asia             152074.97\n",
       " Europe           166254.63\n",
       " North America    152313.40\n",
       " South America    219352.56\n",
       " Name: TotalValue, dtype: float64,\n",
       " Region\n",
       " Asia             218\n",
       " Europe           234\n",
       " North America    244\n",
       " South America    304\n",
       " Name: TransactionID, dtype: int64)"
      ]
     },
     "execution_count": 272,
     "metadata": {},
     "output_type": "execute_result"
    }
   ],
   "source": [
    "df.groupby('Region')['TotalValue'].sum() , df.groupby('Region').count()['TransactionID']"
   ]
  },
  {
   "cell_type": "markdown",
   "id": "0a777a0d-7aae-4f17-9eba-39e157f81a58",
   "metadata": {},
   "source": [
    "# Observation :\n",
    "Here we can see that total sales of South America is highest, but average price per order is almost similar except North America which has lesser value"
   ]
  },
  {
   "cell_type": "code",
   "execution_count": 275,
   "id": "0f61d4f5-6a0a-436f-846a-6b5634deef01",
   "metadata": {},
   "outputs": [
    {
     "data": {
      "text/plain": [
       "array(['Electronics', 'Clothing', 'Books', 'Home Decor'], dtype=object)"
      ]
     },
     "execution_count": 275,
     "metadata": {},
     "output_type": "execute_result"
    }
   ],
   "source": [
    "df['Category'].unique()\n",
    "# There are 4 categories in category section"
   ]
  },
  {
   "cell_type": "code",
   "execution_count": 277,
   "id": "10d7a3d8-f63e-427a-9675-2d4bfd34ea3f",
   "metadata": {},
   "outputs": [
    {
     "data": {
      "text/plain": [
       "Text(0.5, 1.0, 'Sales by Categories')"
      ]
     },
     "execution_count": 277,
     "metadata": {},
     "output_type": "execute_result"
    },
    {
     "data": {
      "image/png": "[encoded data removed]",
      "text/plain": [
       "<Figure size 1000x400 with 1 Axes>"
      ]
     },
     "metadata": {},
     "output_type": "display_data"
    }
   ],
   "source": [
    "plt.figure(figsize=(10,4))\n",
    "sns.barplot(df.groupby('Category')['TotalValue'].sum())\n",
    "plt.title('Sales by Categories')"
   ]
  },
  {
   "cell_type": "code",
   "execution_count": 279,
   "id": "cecc05b0-a5a0-4941-b083-9b29dedee138",
   "metadata": {},
   "outputs": [
    {
     "data": {
      "text/plain": [
       "Text(0.5, 1.0, 'Average Order Price by Category')"
      ]
     },
     "execution_count": 279,
     "metadata": {},
     "output_type": "execute_result"
    },
    {
     "data": {
      "image/png": "[encoded data removed]",
      "text/plain": [
       "<Figure size 1000x400 with 1 Axes>"
      ]
     },
     "metadata": {},
     "output_type": "display_data"
    }
   ],
   "source": [
    "plt.figure(figsize=(10,4))\n",
    "sns.barplot(df.groupby('Category')['TotalValue'].sum()/df.groupby('Category').count()['TransactionID'])\n",
    "plt.ylabel('Average Order Price')\n",
    "plt.title('Average Order Price by Category')"
   ]
  },
  {
   "cell_type": "markdown",
   "id": "52e95873-c443-47cc-8265-3ffc3980c769",
   "metadata": {},
   "source": [
    "# Observation :\n",
    "People spend more on Books and Electronics , but average spending per order is almost similar for three except the 'Home Decor'."
   ]
  },
  {
   "cell_type": "code",
   "execution_count": 282,
   "id": "615e9d14-8218-4683-87d1-52c37ff4bef4",
   "metadata": {},
   "outputs": [
    {
     "data": {
      "text/plain": [
       "array([2024, 2023])"
      ]
     },
     "execution_count": 282,
     "metadata": {},
     "output_type": "execute_result"
    }
   ],
   "source": [
    "df['TransactionDate'].dt.year.unique()\n",
    "# We have data from 2023 and 2024"
   ]
  },
  {
   "cell_type": "code",
   "execution_count": 284,
   "id": "89fa6336-1f34-4adc-ba3b-b7c80996570c",
   "metadata": {},
   "outputs": [
    {
     "data": {
      "text/plain": [
       "TransactionDate\n",
       "2023      3769.52\n",
       "2024    686226.04\n",
       "Name: TotalValue, dtype: float64"
      ]
     },
     "execution_count": 284,
     "metadata": {},
     "output_type": "execute_result"
    }
   ],
   "source": [
    "df.groupby(df['TransactionDate'].dt.year)['TotalValue'].sum()"
   ]
  },
  {
   "cell_type": "code",
   "execution_count": 286,
   "id": "f098100f-5942-41d2-92f3-0f09235c40e7",
   "metadata": {},
   "outputs": [
    {
     "data": {
      "text/html": [
       "<div>\n",
       "<style scoped>\n",
       "    .dataframe tbody tr th:only-of-type {\n",
       "        vertical-align: middle;\n",
       "    }\n",
       "\n",
       "    .dataframe tbody tr th {\n",
       "        vertical-align: top;\n",
       "    }\n",
       "\n",
       "    .dataframe thead th {\n",
       "        text-align: right;\n",
       "    }\n",
       "</style>\n",
       "<table border=\"1\" class=\"dataframe\">\n",
       "  <thead>\n",
       "    <tr style=\"text-align: right;\">\n",
       "      <th></th>\n",
       "      <th>TransactionID</th>\n",
       "      <th>CustomerID</th>\n",
       "      <th>ProductID</th>\n",
       "      <th>TransactionDate</th>\n",
       "      <th>Quantity</th>\n",
       "      <th>TotalValue</th>\n",
       "      <th>CustomerName</th>\n",
       "      <th>Region</th>\n",
       "      <th>SignupDate</th>\n",
       "      <th>ProductName</th>\n",
       "      <th>Category</th>\n",
       "      <th>Price</th>\n",
       "    </tr>\n",
       "    <tr>\n",
       "      <th>TransactionDate</th>\n",
       "      <th></th>\n",
       "      <th></th>\n",
       "      <th></th>\n",
       "      <th></th>\n",
       "      <th></th>\n",
       "      <th></th>\n",
       "      <th></th>\n",
       "      <th></th>\n",
       "      <th></th>\n",
       "      <th></th>\n",
       "      <th></th>\n",
       "      <th></th>\n",
       "    </tr>\n",
       "  </thead>\n",
       "  <tbody>\n",
       "    <tr>\n",
       "      <th>2023</th>\n",
       "      <td>4</td>\n",
       "      <td>4</td>\n",
       "      <td>4</td>\n",
       "      <td>4</td>\n",
       "      <td>4</td>\n",
       "      <td>4</td>\n",
       "      <td>4</td>\n",
       "      <td>4</td>\n",
       "      <td>4</td>\n",
       "      <td>4</td>\n",
       "      <td>4</td>\n",
       "      <td>4</td>\n",
       "    </tr>\n",
       "    <tr>\n",
       "      <th>2024</th>\n",
       "      <td>996</td>\n",
       "      <td>996</td>\n",
       "      <td>996</td>\n",
       "      <td>996</td>\n",
       "      <td>996</td>\n",
       "      <td>996</td>\n",
       "      <td>996</td>\n",
       "      <td>996</td>\n",
       "      <td>996</td>\n",
       "      <td>996</td>\n",
       "      <td>996</td>\n",
       "      <td>996</td>\n",
       "    </tr>\n",
       "  </tbody>\n",
       "</table>\n",
       "</div>"
      ],
      "text/plain": [
       "                 TransactionID  CustomerID  ProductID  TransactionDate  \\\n",
       "TransactionDate                                                          \n",
       "2023                         4           4          4                4   \n",
       "2024                       996         996        996              996   \n",
       "\n",
       "                 Quantity  TotalValue  CustomerName  Region  SignupDate  \\\n",
       "TransactionDate                                                           \n",
       "2023                    4           4             4       4           4   \n",
       "2024                  996         996           996     996         996   \n",
       "\n",
       "                 ProductName  Category  Price  \n",
       "TransactionDate                                \n",
       "2023                       4         4      4  \n",
       "2024                     996       996    996  "
      ]
     },
     "execution_count": 286,
     "metadata": {},
     "output_type": "execute_result"
    }
   ],
   "source": [
    "df.groupby(df['TransactionDate'].dt.year).count()"
   ]
  },
  {
   "cell_type": "markdown",
   "id": "0b31739d-4b3e-47cf-a36d-aef9459f537f",
   "metadata": {},
   "source": [
    "# Observation : \n",
    "Majority of our data is from 2024 only, there are only 4 rows only for 2023."
   ]
  },
  {
   "cell_type": "code",
   "execution_count": 289,
   "id": "d53510e5-2183-4ddb-80a1-27ba83ae04e1",
   "metadata": {},
   "outputs": [
    {
     "data": {
      "image/png": "[encoded data removed]",
      "text/plain": [
       "<Figure size 1000x400 with 1 Axes>"
      ]
     },
     "metadata": {},
     "output_type": "display_data"
    }
   ],
   "source": [
    "plt.figure(figsize=(10,4))\n",
    "sns.barplot(df.groupby(df['TransactionDate'].dt.month)['TotalValue'].sum())\n",
    "plt.title('Monthly Sales')\n",
    "plt.show()"
   ]
  },
  {
   "cell_type": "markdown",
   "id": "933a3d69-25dc-4932-8d9b-3ac27b2d604e",
   "metadata": {},
   "source": [
    "# Observation :\n",
    "The sales are more towards the end & start of the year and from july to september"
   ]
  },
  {
   "cell_type": "code",
   "execution_count": 315,
   "id": "5a2cd612-b098-4c4e-90eb-87e242191b66",
   "metadata": {},
   "outputs": [
    {
     "data": {
      "image/png": "[encoded data removed]",
      "text/plain": [
       "<Figure size 640x480 with 1 Axes>"
      ]
     },
     "metadata": {},
     "output_type": "display_data"
    }
   ],
   "source": [
    "top_products = df.groupby('ProductName')['TotalValue'].sum().sort_values(ascending=False).head(10)\n",
    "top_products.plot(kind='bar', title='Top 10 Products by Sales')\n",
    "plt.show()"
   ]
  },
  {
   "cell_type": "markdown",
   "id": "207353a5-e2ef-4663-9a74-cf12e1deb141",
   "metadata": {},
   "source": [
    "# Observation :\n",
    "Smartwatch is the most selled product"
   ]
  },
  {
   "cell_type": "code",
   "execution_count": 317,
   "id": "00ccd1bc-baa3-40f8-ae97-2b698fdde970",
   "metadata": {},
   "outputs": [
    {
     "data": {
      "image/png": "[encoded data removed]",
      "text/plain": [
       "<Figure size 800x600 with 1 Axes>"
      ]
     },
     "metadata": {},
     "output_type": "display_data"
    }
   ],
   "source": [
    "plt.figure(figsize=(8,6))\n",
    "sns.histplot(df.groupby('CustomerID')['TotalValue'].sum(), bins=50, kde=True)\n",
    "plt.title('Customer Purchase Distribution')\n",
    "plt.show()"
   ]
  },
  {
   "cell_type": "code",
   "execution_count": 321,
   "id": "06ee6c05-02e1-4d6f-a988-02270adb125e",
   "metadata": {},
   "outputs": [
    {
     "data": {
      "text/plain": [
       "0.5407897268183952"
      ]
     },
     "execution_count": 321,
     "metadata": {},
     "output_type": "execute_result"
    }
   ],
   "source": [
    "df.groupby('CustomerID')['TotalValue'].sum().skew()"
   ]
  },
  {
   "cell_type": "markdown",
   "id": "16d9c624-b2e4-4d19-b44b-e7488175cb49",
   "metadata": {},
   "source": [
    "# Observation :\n",
    "Customer purchase distribution is bit right skewed."
   ]
  },
  {
   "cell_type": "code",
   "execution_count": null,
   "id": "dff3353b-5658-42b6-aa17-b86f19236b0d",
   "metadata": {},
   "outputs": [],
   "source": []
  }
 ],
 "metadata": {
  "kernelspec": {
   "display_name": "Python 3 (ipykernel)",
   "language": "python",
   "name": "python3"
  },
  "language_info": {
   "codemirror_mode": {
    "name": "ipython",
    "version": 3
   },
   "file_extension": ".py",
   "mimetype": "text/x-python",
   "name": "python",
   "nbconvert_exporter": "python",
   "pygments_lexer": "ipython3",
   "version": "3.12.7"
  }
 },
 "nbformat": 4,
 "nbformat_minor": 5
}
